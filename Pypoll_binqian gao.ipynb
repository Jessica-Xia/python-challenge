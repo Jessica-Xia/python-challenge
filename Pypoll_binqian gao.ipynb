{
 "cells": [
  {
   "cell_type": "code",
   "execution_count": 13,
   "metadata": {},
   "outputs": [
    {
     "name": "stdout",
     "output_type": "stream",
     "text": [
      "Election Results\n",
      "----------------------------\n",
      "Total Votes: 3521001\n",
      "----------------------------\n",
      "Khan:63.000%(2218231)\n",
      "Correy:20.000%(704200)\n",
      "Li:14.000%(492940)\n",
      "O'Tooley:3.000%(105630)\n",
      "----------------------------\n",
      "Winner: Khan\n",
      "----------------------------\n"
     ]
    }
   ],
   "source": [
    "import os, csv\n",
    "file = os.path.join('election_data.csv')\n",
    "\n",
    "with open(file, newline=\"\") as csvreader:\n",
    "    csvreader = csv.reader(csvreader, delimiter=\",\") \n",
    "    header = next(csvreader)     \n",
    "\n",
    "    Khan_vote = 0\n",
    "    Correy_vote = 0\n",
    "    Li_vote = 0\n",
    "    total = 0\n",
    "    Otoo_vote= 0\n",
    "    for row in csvreader: \n",
    "        total = total +1\n",
    "        if row[2] == \"Khan\": \n",
    "            Khan_vote +=1\n",
    "        elif row[2] == \"Correy\":\n",
    "            Correy_vote +=1\n",
    "        elif row[2] == \"Li\": \n",
    "            Li_vote +=1\n",
    "        elif row[2] == \"O'Tooley\":\n",
    "            Otoo_vote +=1\n",
    "\n",
    "names = [\"Khan\", \"Correy\", \"Li\", \"O'Tooley\"]\n",
    "votes = [Khan_vote, Correy_vote, Li_vote, Otoo_vote]\n",
    "\n",
    "diction= dict(zip(names,votes))\n",
    "winner = max(diction, key=diction.get)\n",
    "\n",
    "# Print a the summary of the analysis\n",
    "khan= Khan_vote/total\n",
    "correy = Correy_vote/total\n",
    "li = Li_vote /total\n",
    "oto= Otoo_vote/total\n",
    "\n",
    "print(f\"Election Results\")\n",
    "print(f\"----------------------------\")\n",
    "print(f\"Total Votes: {total}\")\n",
    "print(f\"----------------------------\")\n",
    "print(\"Khan:\"+ \"{:.3%}\".format(khan) +f\"({Khan_vote})\"+\"\\n\"\n",
    "      +\"Correy:\"+ \"{:.3%}\".format(correy) +f\"({Correy_vote})\"+\"\\n\"\n",
    "      +\"Li:\"+ \"{:.3%}\".format(li) +f\"({Li_vote})\"+\"\\n\"\n",
    "      +\"O'Tooley:\"+ \"{:.3%}\".format(oto) +f\"({Otoo_vote})\")\n",
    "print(f\"----------------------------\")\n",
    "print(f\"Winner: {winner}\")\n",
    "print(f\"----------------------------\")"
   ]
  },
  {
   "cell_type": "code",
   "execution_count": 23,
   "metadata": {},
   "outputs": [],
   "source": [
    "\n",
    "output_path = os.path.join(\"Election_Result.txt\")\n",
    "with open(output_path,\"w\") as file:\n",
    "    file.write(f\"Election Results\")\n",
    "    file.write(\"\\n\")\n",
    "    file.write(f\"----------------------------\")\n",
    "    file.write(\"\\n\")\n",
    "    file.write(f\"Total Votes: {total}\")\n",
    "    file.write(\"\\n\")\n",
    "    file.write(f\"----------------------------\")\n",
    "    file.write(\"\\n\")\n",
    "    file.write(\"Khan:\"+ \"{:.3%}\".format(khan) +f\"({Khan_vote})\"+\"\\n\"\n",
    "      +\"Correy:\"+ \"{:.3%}\".format(correy) +f\"({Correy_vote})\"+\"\\n\"\n",
    "      +\"Li:\"+ \"{:.3%}\".format(li) +f\"({Li_vote})\"+\"\\n\"\n",
    "      +\"O'Tooley:\"+ \"{:.3%}\".format(oto) +f\"({Otoo_vote})\"\"\\n\")\n",
    "    file.write(f\"----------------------------\")\n",
    "    file.write(\"\\n\")\n",
    "    file.write(f\"Winner: {winner}\")\n",
    "    file.write(\"\\n\")\n",
    "    file.write(f\"----------------------------\")"
   ]
  },
  {
   "cell_type": "code",
   "execution_count": null,
   "metadata": {},
   "outputs": [],
   "source": []
  }
 ],
 "metadata": {
  "kernelspec": {
   "display_name": "Python 3",
   "language": "python",
   "name": "python3"
  },
  "language_info": {
   "codemirror_mode": {
    "name": "ipython",
    "version": 3
   },
   "file_extension": ".py",
   "mimetype": "text/x-python",
   "name": "python",
   "nbconvert_exporter": "python",
   "pygments_lexer": "ipython3",
   "version": "3.7.3"
  }
 },
 "nbformat": 4,
 "nbformat_minor": 4
}
